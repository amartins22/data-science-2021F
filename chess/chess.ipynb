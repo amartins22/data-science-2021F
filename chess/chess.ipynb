{
 "cells": [
  {
   "cell_type": "markdown",
   "id": "6a2fa6dc",
   "metadata": {},
   "source": [
    "# Chess"
   ]
  },
  {
   "cell_type": "code",
   "execution_count": 1,
   "id": "920e2e18",
   "metadata": {},
   "outputs": [],
   "source": [
    "import requests\n",
    "import json\n",
    "from pathlib import Path\n",
    "import os"
   ]
  },
  {
   "cell_type": "code",
   "execution_count": 2,
   "id": "ccc3a312",
   "metadata": {},
   "outputs": [],
   "source": [
    "username = 'marty400'\n",
    "result = requests.get('https://api.chess.com/pub/player/' + username + '/games/archives').json()\n",
    "archives = result['archives']"
   ]
  },
  {
   "cell_type": "code",
   "execution_count": 3,
   "id": "16c5b8b7",
   "metadata": {},
   "outputs": [
    {
     "name": "stdout",
     "output_type": "stream",
     "text": [
      "['https://api.chess.com/pub/player/marty400/games/2020/10', 'https://api.chess.com/pub/player/marty400/games/2020/11', 'https://api.chess.com/pub/player/marty400/games/2020/12', 'https://api.chess.com/pub/player/marty400/games/2021/01', 'https://api.chess.com/pub/player/marty400/games/2021/02', 'https://api.chess.com/pub/player/marty400/games/2021/10', 'https://api.chess.com/pub/player/marty400/games/2021/11', 'https://api.chess.com/pub/player/marty400/games/2021/12']\n"
     ]
    }
   ],
   "source": [
    "print(archives)"
   ]
  },
  {
   "cell_type": "code",
   "execution_count": 4,
   "id": "b9acec65",
   "metadata": {},
   "outputs": [],
   "source": [
    "game_dir = f'./game-data-{username}/'\n",
    "Path(game_dir).mkdir(parents=True, exist_ok=True)"
   ]
  },
  {
   "cell_type": "code",
   "execution_count": 5,
   "id": "d0a7cbaa",
   "metadata": {},
   "outputs": [],
   "source": [
    "months = []\n",
    "x=0\n",
    "\n",
    "for month_link in archives:\n",
    "    months.append(\"month_\"+ str(x))\n",
    "    month_result = requests.get(month_link).json()\n",
    "    \n",
    "    with open(game_dir + months[x],'w+', encoding='utf-8') as f: \n",
    "        json.dump(month_result, f, ensure_ascii = False, indent=4)\n",
    "    x+=1"
   ]
  },
  {
   "cell_type": "code",
   "execution_count": null,
   "id": "f5d0010f",
   "metadata": {},
   "outputs": [],
   "source": []
  }
 ],
 "metadata": {
  "kernelspec": {
   "display_name": "Python 3",
   "language": "python",
   "name": "python3"
  },
  "language_info": {
   "codemirror_mode": {
    "name": "ipython",
    "version": 3
   },
   "file_extension": ".py",
   "mimetype": "text/x-python",
   "name": "python",
   "nbconvert_exporter": "python",
   "pygments_lexer": "ipython3",
   "version": "3.8.8"
  }
 },
 "nbformat": 4,
 "nbformat_minor": 5
}
