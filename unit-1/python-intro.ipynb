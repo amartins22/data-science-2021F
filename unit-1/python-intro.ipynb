{
 "cells": [
  {
   "cell_type": "markdown",
   "id": "1c641cc0",
   "metadata": {},
   "source": [
    "# Python Crash Course\n",
    "This is my cheat sheet."
   ]
  },
  {
   "cell_type": "code",
   "execution_count": 1,
   "id": "5a2aae56",
   "metadata": {},
   "outputs": [
    {
     "name": "stdout",
     "output_type": "stream",
     "text": [
      "Hello World\n"
     ]
    }
   ],
   "source": [
    "print('Hello World')"
   ]
  },
  {
   "cell_type": "markdown",
   "id": "7ea428ba",
   "metadata": {},
   "source": [
    "## Variables"
   ]
  },
  {
   "cell_type": "code",
   "execution_count": 2,
   "id": "6515efd8",
   "metadata": {},
   "outputs": [
    {
     "name": "stdout",
     "output_type": "stream",
     "text": [
      "This is really sad\n"
     ]
    }
   ],
   "source": [
    "x = 5\n",
    "y ='My soccer number is'\n",
    "z = 'This is really sad'\n",
    "print(z)"
   ]
  },
  {
   "cell_type": "markdown",
   "id": "889d7b5c",
   "metadata": {},
   "source": [
    "## Comments"
   ]
  },
  {
   "cell_type": "code",
   "execution_count": 3,
   "id": "7edb56fc",
   "metadata": {},
   "outputs": [],
   "source": [
    "#I am commenting on my code"
   ]
  },
  {
   "cell_type": "code",
   "execution_count": 4,
   "id": "b8c56ff9",
   "metadata": {},
   "outputs": [
    {
     "data": {
      "text/plain": [
       "'\\nThis is a \\nbig boy comment\\non big boy lines\\n'"
      ]
     },
     "execution_count": 4,
     "metadata": {},
     "output_type": "execute_result"
    }
   ],
   "source": [
    "\"\"\"\n",
    "This is a \n",
    "big boy comment\n",
    "on big boy lines\n",
    "\"\"\""
   ]
  },
  {
   "cell_type": "code",
   "execution_count": null,
   "id": "e1a67a9c",
   "metadata": {},
   "outputs": [],
   "source": []
  },
  {
   "cell_type": "markdown",
   "id": "af7ba5aa",
   "metadata": {},
   "source": [
    "## Casting and Concatination "
   ]
  },
  {
   "cell_type": "code",
   "execution_count": 5,
   "id": "7926f0f3",
   "metadata": {},
   "outputs": [
    {
     "name": "stdout",
     "output_type": "stream",
     "text": [
      "My soccer number is 5\n"
     ]
    }
   ],
   "source": [
    "x = str(' 5')\n",
    "print(y+x)"
   ]
  },
  {
   "cell_type": "code",
   "execution_count": 6,
   "id": "a4d4a638",
   "metadata": {},
   "outputs": [
    {
     "name": "stdout",
     "output_type": "stream",
     "text": [
      "<class 'str'>\n"
     ]
    }
   ],
   "source": [
    "print(type(y))"
   ]
  },
  {
   "cell_type": "code",
   "execution_count": 7,
   "id": "9a36f461",
   "metadata": {},
   "outputs": [
    {
     "name": "stdout",
     "output_type": "stream",
     "text": [
      "My favorite fruits are pineapples mangos peaches\n"
     ]
    }
   ],
   "source": [
    "a, b ,c = 'pineapples', ' mangos', ' peaches'\n",
    "print('My favorite fruits are ' + a + b + c)"
   ]
  },
  {
   "cell_type": "code",
   "execution_count": 8,
   "id": "7a779617",
   "metadata": {},
   "outputs": [
    {
     "name": "stdout",
     "output_type": "stream",
     "text": [
      "True\n"
     ]
    }
   ],
   "source": [
    "l = m = n = True\n",
    "print(l)"
   ]
  },
  {
   "cell_type": "markdown",
   "id": "a6afd820",
   "metadata": {},
   "source": [
    "### Scope\n",
    "Scope is important in Python. Variables declared with no indent are global."
   ]
  },
  {
   "cell_type": "markdown",
   "id": "4ae74036",
   "metadata": {},
   "source": [
    "# Data Types"
   ]
  },
  {
   "cell_type": "code",
   "execution_count": 9,
   "id": "0561b037",
   "metadata": {},
   "outputs": [
    {
     "name": "stdout",
     "output_type": "stream",
     "text": [
      "4.35\n"
     ]
    },
    {
     "data": {
      "text/plain": [
       "'4.35'"
      ]
     },
     "execution_count": 9,
     "metadata": {},
     "output_type": "execute_result"
    }
   ],
   "source": [
    "e = 4.35\n",
    "\n",
    "print(e)\n",
    "float(e)\n",
    "int(e)\n",
    "str (e)"
   ]
  },
  {
   "cell_type": "markdown",
   "id": "b48b5cff",
   "metadata": {},
   "source": [
    "## Multiline Text"
   ]
  },
  {
   "cell_type": "code",
   "execution_count": 10,
   "id": "2c8c3613",
   "metadata": {},
   "outputs": [
    {
     "name": "stdout",
     "output_type": "stream",
     "text": [
      "Lots and lots of words \n",
      "on a line meant for but a few\n",
      "this is multiline text \n",
      "I made it just for you\n"
     ]
    }
   ],
   "source": [
    "d = \"\"\"Lots and lots of words \n",
    "on a line meant for but a few\n",
    "this is multiline text \n",
    "I made it just for you\"\"\"\n",
    "print(d)"
   ]
  },
  {
   "cell_type": "markdown",
   "id": "447fe7d5",
   "metadata": {},
   "source": [
    "## Slice"
   ]
  },
  {
   "cell_type": "code",
   "execution_count": 11,
   "id": "01796b55",
   "metadata": {},
   "outputs": [
    {
     "name": "stdout",
     "output_type": "stream",
     "text": [
      "Lots and lots of words \n",
      "on a line meant for but a few\n",
      "this is multiline text \n",
      "I made it just for you\n"
     ]
    }
   ],
   "source": [
    "d = \"\"\"Lots and lots of words \n",
    "on a line meant for but a few\n",
    "this is multiline text \n",
    "I made it just for you\"\"\"\n",
    "print(d)\n"
   ]
  },
  {
   "cell_type": "code",
   "execution_count": 12,
   "id": "9831712c",
   "metadata": {},
   "outputs": [
    {
     "name": "stdout",
     "output_type": "stream",
     "text": [
      "Lots \n"
     ]
    }
   ],
   "source": [
    "firstWrd = d[0:5]\n",
    "print(firstWrd)"
   ]
  },
  {
   "cell_type": "code",
   "execution_count": 13,
   "id": "36bd045f",
   "metadata": {},
   "outputs": [
    {
     "name": "stdout",
     "output_type": "stream",
     "text": [
      "LOTS AND LOTS OF WORDS \n",
      "ON A LINE MEANT FOR BUT A FEW\n",
      "THIS IS MULTILINE TEXT \n",
      "I MADE IT JUST FOR YOU\n"
     ]
    }
   ],
   "source": [
    "print(d.upper())"
   ]
  },
  {
   "cell_type": "code",
   "execution_count": 14,
   "id": "a0084aab",
   "metadata": {},
   "outputs": [
    {
     "name": "stdout",
     "output_type": "stream",
     "text": [
      "Lots and lots of words \n",
      "on a line meant for but a few\n",
      "this is multiline text \n",
      "I made it just for you\n"
     ]
    }
   ],
   "source": [
    "print(d)"
   ]
  },
  {
   "cell_type": "code",
   "execution_count": 15,
   "id": "e5a79bc5",
   "metadata": {},
   "outputs": [
    {
     "name": "stdout",
     "output_type": "stream",
     "text": [
      "I am is 17\n"
     ]
    }
   ],
   "source": [
    "age = 17\n",
    "text = 'I am is {}'\n",
    "print(text.format(age))"
   ]
  },
  {
   "cell_type": "code",
   "execution_count": 16,
   "id": "786e7629",
   "metadata": {},
   "outputs": [
    {
     "name": "stdout",
     "output_type": "stream",
     "text": [
      "At this point I am just writing \"random things\"\n"
     ]
    }
   ],
   "source": [
    "words = \"At this point I am just writing \\\"random things\\\"\"\n",
    "print(words)"
   ]
  },
  {
   "cell_type": "markdown",
   "id": "0c57796b",
   "metadata": {},
   "source": [
    "## String Methods"
   ]
  },
  {
   "cell_type": "code",
   "execution_count": 17,
   "id": "ee92709e",
   "metadata": {},
   "outputs": [
    {
     "name": "stdout",
     "output_type": "stream",
     "text": [
      "11\n"
     ]
    }
   ],
   "source": [
    "x = \"Hello World\"\n",
    "print (len(x))"
   ]
  },
  {
   "cell_type": "code",
   "execution_count": 18,
   "id": "ffcec3de",
   "metadata": {},
   "outputs": [
    {
     "name": "stdout",
     "output_type": "stream",
     "text": [
      "H\n"
     ]
    }
   ],
   "source": [
    "txt = x[0]\n",
    "print(txt)"
   ]
  },
  {
   "cell_type": "code",
   "execution_count": 30,
   "id": "51ab6852",
   "metadata": {},
   "outputs": [
    {
     "name": "stdout",
     "output_type": "stream",
     "text": [
      "llo\n"
     ]
    }
   ],
   "source": [
    "txt2 = x[2:5]\n",
    "print(txt2)"
   ]
  },
  {
   "cell_type": "code",
   "execution_count": 21,
   "id": "5f575a31",
   "metadata": {},
   "outputs": [
    {
     "name": "stdout",
     "output_type": "stream",
     "text": [
      "Hello World\n"
     ]
    }
   ],
   "source": [
    "x2 = \"  Hello World   \"\n",
    "txt3 = x2.strip()\n",
    "print(txt3)"
   ]
  },
  {
   "cell_type": "code",
   "execution_count": 23,
   "id": "f49dd784",
   "metadata": {},
   "outputs": [
    {
     "name": "stdout",
     "output_type": "stream",
     "text": [
      "HELLO WORLD\n"
     ]
    }
   ],
   "source": [
    "x = x.upper()\n",
    "print(x)"
   ]
  },
  {
   "cell_type": "code",
   "execution_count": 24,
   "id": "64f698f2",
   "metadata": {},
   "outputs": [
    {
     "name": "stdout",
     "output_type": "stream",
     "text": [
      "hello world\n"
     ]
    }
   ],
   "source": [
    "x = x.lower()\n",
    "print(x)"
   ]
  },
  {
   "cell_type": "code",
   "execution_count": 27,
   "id": "fe9222ad",
   "metadata": {},
   "outputs": [
    {
     "name": "stdout",
     "output_type": "stream",
     "text": [
      "jello world\n"
     ]
    }
   ],
   "source": [
    "x = x.replace(\"h\", \"j\")\n",
    "print(x)"
   ]
  },
  {
   "cell_type": "code",
   "execution_count": 29,
   "id": "c140822b",
   "metadata": {},
   "outputs": [
    {
     "name": "stdout",
     "output_type": "stream",
     "text": [
      "My name is Addie, and I am 17\n"
     ]
    }
   ],
   "source": [
    "age = 17 \n",
    "txt4 = \"My name is Addie, and I am {}\"\n",
    "print(txt4.format(age))"
   ]
  },
  {
   "cell_type": "markdown",
   "id": "8d8759de",
   "metadata": {},
   "source": [
    "## Booleans"
   ]
  },
  {
   "cell_type": "markdown",
   "id": "6a7882a8",
   "metadata": {},
   "source": [
    "return true or false values "
   ]
  },
  {
   "cell_type": "markdown",
   "id": "c040615f",
   "metadata": {},
   "source": [
    "## Lists"
   ]
  },
  {
   "cell_type": "code",
   "execution_count": 7,
   "id": "36350c71",
   "metadata": {},
   "outputs": [
    {
     "name": "stdout",
     "output_type": "stream",
     "text": [
      "['map', 'ship', 'spyglass', 'treasure']\n"
     ]
    }
   ],
   "source": [
    "pirateItems = [\"map\", \"ship\", \"spyglass\",\"treasure\"]\n",
    "print(pirateItems)"
   ]
  },
  {
   "cell_type": "code",
   "execution_count": 9,
   "id": "329a7c6e",
   "metadata": {},
   "outputs": [
    {
     "name": "stdout",
     "output_type": "stream",
     "text": [
      "['map', 'ship', 'rum', 'treasure']\n"
     ]
    }
   ],
   "source": [
    "pirateItems[2]=\"rum\"\n",
    "print(pirateItems)"
   ]
  },
  {
   "cell_type": "code",
   "execution_count": 14,
   "id": "09819152",
   "metadata": {},
   "outputs": [
    {
     "name": "stdout",
     "output_type": "stream",
     "text": [
      "['map', 'spyglass', 'spyglass', 'spyglass', 'spyglass', 'spyglass', 'ship', 'rum', 'treasure']\n"
     ]
    }
   ],
   "source": [
    "pirateItems.insert(1,\"spyglass\")\n",
    "print(pirateItems)"
   ]
  },
  {
   "cell_type": "markdown",
   "id": "813365e3",
   "metadata": {},
   "source": [
    "note: every time you run the code it keeps adding a new '1'"
   ]
  },
  {
   "cell_type": "code",
   "execution_count": 17,
   "id": "408fa26d",
   "metadata": {},
   "outputs": [
    {
     "name": "stdout",
     "output_type": "stream",
     "text": [
      "['map', 'spyglass', 'spyglass', 'spyglass', 'ship', 'rum', 'treasure']\n"
     ]
    }
   ],
   "source": [
    "pirateItems.pop(1)\n",
    "print(pirateItems)"
   ]
  },
  {
   "cell_type": "code",
   "execution_count": 18,
   "id": "f7cbd4a0",
   "metadata": {},
   "outputs": [
    {
     "name": "stdout",
     "output_type": "stream",
     "text": [
      "['map', 'spyglass', 'spyglass', 'ship', 'rum', 'treasure']\n"
     ]
    }
   ],
   "source": [
    "pirateItems.remove(\"spyglass\")\n",
    "print(pirateItems)"
   ]
  },
  {
   "cell_type": "code",
   "execution_count": 19,
   "id": "89e17e28",
   "metadata": {},
   "outputs": [
    {
     "name": "stdout",
     "output_type": "stream",
     "text": [
      "['map', 'spyglass', 'ship', 'rum', 'treasure']\n"
     ]
    }
   ],
   "source": [
    "pirateItems.pop(1)\n",
    "print(pirateItems)"
   ]
  },
  {
   "cell_type": "markdown",
   "id": "678a0bc8",
   "metadata": {},
   "source": [
    "question: Is there a way to remove all items of the same value? Or do I have to keep repeating it like I did above?"
   ]
  },
  {
   "cell_type": "markdown",
   "id": "eb98779a",
   "metadata": {},
   "source": [
    "## Personal Dictionary"
   ]
  },
  {
   "cell_type": "code",
   "execution_count": 24,
   "id": "336f2b23",
   "metadata": {},
   "outputs": [
    {
     "name": "stdout",
     "output_type": "stream",
     "text": [
      "{'name': 'Addie', 'age': 17, 'loves dogs': True, 'favorite things': ['the color orange', 'old music', 'playing chess']}\n"
     ]
    }
   ],
   "source": [
    "myDict = {\n",
    "    \"name\" : \"Addie\",\n",
    "    \"age\" : 17,\n",
    "    \"loves dogs\" : bool(\"loves dogs\"),\n",
    "    \"favorite things\" : [\"the color orange\", \"old music\", \"playing chess\"]\n",
    "}\n",
    "print(myDict)"
   ]
  },
  {
   "cell_type": "markdown",
   "id": "c78b842d",
   "metadata": {},
   "source": [
    "## Conditionals"
   ]
  },
  {
   "cell_type": "code",
   "execution_count": 26,
   "id": "9a4fe1db",
   "metadata": {},
   "outputs": [
    {
     "name": "stdout",
     "output_type": "stream",
     "text": [
      "orange is a superior color\n"
     ]
    }
   ],
   "source": [
    "orange = 2\n",
    "blue = 1\n",
    "if orange > blue:\n",
    "    print(\"orange is a superior color\")"
   ]
  },
  {
   "cell_type": "code",
   "execution_count": 27,
   "id": "f5938be4",
   "metadata": {},
   "outputs": [
    {
     "name": "stdout",
     "output_type": "stream",
     "text": [
      "orange and blue are both good colors\n"
     ]
    }
   ],
   "source": [
    "orange = 2\n",
    "blue = 2\n",
    "if orange > blue:\n",
    "    print(\"orange is a superior color\")\n",
    "elif orange == blue:\n",
    "    print(\"orange and blue are both good colors\")"
   ]
  },
  {
   "cell_type": "code",
   "execution_count": 28,
   "id": "f96c6c8b",
   "metadata": {},
   "outputs": [
    {
     "name": "stdout",
     "output_type": "stream",
     "text": [
      "most people prefer blue over orange, but that is wrong\n"
     ]
    }
   ],
   "source": [
    "orange = 2 \n",
    "blue = 4 \n",
    "if orange > blue:\n",
    "    print(\"orange is a superior color\")\n",
    "elif orange == blue:\n",
    "    print(\"orange and blue are both good colors\")\n",
    "else:\n",
    "    print(\"most people prefer blue over orange, but that is wrong\")"
   ]
  },
  {
   "cell_type": "markdown",
   "id": "4176351c",
   "metadata": {},
   "source": [
    "## While Loop"
   ]
  },
  {
   "cell_type": "code",
   "execution_count": 31,
   "id": "96d00999",
   "metadata": {},
   "outputs": [
    {
     "name": "stdout",
     "output_type": "stream",
     "text": [
      "[1, 2, 3, 4, 5, 6, 7, 8, 9, 10]\n"
     ]
    }
   ],
   "source": [
    "num = 1\n",
    "numSeq = []\n",
    "while num < 11:\n",
    "    numSeq.append(num)\n",
    "    num += 1  \n",
    "print(numSeq)"
   ]
  },
  {
   "cell_type": "markdown",
   "id": "2aa1f4ca",
   "metadata": {},
   "source": [
    "## For Loops"
   ]
  },
  {
   "cell_type": "code",
   "execution_count": 35,
   "id": "5f044dc9",
   "metadata": {},
   "outputs": [
    {
     "name": "stdout",
     "output_type": "stream",
     "text": [
      "1\n",
      "2\n",
      "3\n",
      "4\n",
      "5\n",
      "6\n",
      "7\n",
      "8\n",
      "9\n",
      "10\n"
     ]
    }
   ],
   "source": [
    "numSeq2 = (1,2,3,4,5,6,7,8,9,10)\n",
    "for x in numSeq2:\n",
    "    print(x)"
   ]
  },
  {
   "cell_type": "markdown",
   "id": "025c2640",
   "metadata": {},
   "source": [
    "## Ternary"
   ]
  },
  {
   "cell_type": "code",
   "execution_count": 36,
   "id": "3833c65c",
   "metadata": {},
   "outputs": [
    {
     "name": "stdout",
     "output_type": "stream",
     "text": [
      "I am tired\n"
     ]
    }
   ],
   "source": [
    "am_tired = True\n",
    "print(\"I am tired\" if am_tired else \"I am not tired\")"
   ]
  },
  {
   "cell_type": "code",
   "execution_count": null,
   "id": "4734f1cd",
   "metadata": {},
   "outputs": [],
   "source": []
  }
 ],
 "metadata": {
  "kernelspec": {
   "display_name": "Python 3 (ipykernel)",
   "language": "python",
   "name": "python3"
  },
  "language_info": {
   "codemirror_mode": {
    "name": "ipython",
    "version": 3
   },
   "file_extension": ".py",
   "mimetype": "text/x-python",
   "name": "python",
   "nbconvert_exporter": "python",
   "pygments_lexer": "ipython3",
   "version": "3.9.7"
  }
 },
 "nbformat": 4,
 "nbformat_minor": 5
}
