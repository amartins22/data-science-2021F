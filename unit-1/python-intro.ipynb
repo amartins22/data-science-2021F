{
 "cells": [
  {
   "cell_type": "markdown",
   "id": "1c641cc0",
   "metadata": {},
   "source": [
    "# Python Crash Course\n",
    "This is my cheat sheet."
   ]
  },
  {
   "cell_type": "code",
   "execution_count": 1,
   "id": "5a2aae56",
   "metadata": {},
   "outputs": [
    {
     "name": "stdout",
     "output_type": "stream",
     "text": [
      "Hello World\n"
     ]
    }
   ],
   "source": [
    "print('Hello World')"
   ]
  },
  {
   "cell_type": "markdown",
   "id": "7ea428ba",
   "metadata": {},
   "source": [
    "## Variables"
   ]
  },
  {
   "cell_type": "code",
   "execution_count": 2,
   "id": "6515efd8",
   "metadata": {},
   "outputs": [
    {
     "name": "stdout",
     "output_type": "stream",
     "text": [
      "This is really sad\n"
     ]
    }
   ],
   "source": [
    "x = 5\n",
    "y ='My soccer number is'\n",
    "z = 'This is really sad'\n",
    "print(z)"
   ]
  },
  {
   "cell_type": "markdown",
   "id": "889d7b5c",
   "metadata": {},
   "source": [
    "## Comments"
   ]
  },
  {
   "cell_type": "code",
   "execution_count": 3,
   "id": "7edb56fc",
   "metadata": {},
   "outputs": [],
   "source": [
    "#I am commenting on my code"
   ]
  },
  {
   "cell_type": "code",
   "execution_count": 4,
   "id": "b8c56ff9",
   "metadata": {},
   "outputs": [
    {
     "data": {
      "text/plain": [
       "'\\nThis is a \\nbig boy comment\\non big boy lines\\n'"
      ]
     },
     "execution_count": 4,
     "metadata": {},
     "output_type": "execute_result"
    }
   ],
   "source": [
    "\"\"\"\n",
    "This is a \n",
    "big boy comment\n",
    "on big boy lines\n",
    "\"\"\""
   ]
  },
  {
   "cell_type": "code",
   "execution_count": null,
   "id": "e1a67a9c",
   "metadata": {},
   "outputs": [],
   "source": []
  },
  {
   "cell_type": "markdown",
   "id": "af7ba5aa",
   "metadata": {},
   "source": [
    "## Casting and Concatination "
   ]
  },
  {
   "cell_type": "code",
   "execution_count": 5,
   "id": "7926f0f3",
   "metadata": {},
   "outputs": [
    {
     "name": "stdout",
     "output_type": "stream",
     "text": [
      "My soccer number is 5\n"
     ]
    }
   ],
   "source": [
    "x = str(' 5')\n",
    "print(y+x)"
   ]
  },
  {
   "cell_type": "code",
   "execution_count": 6,
   "id": "a4d4a638",
   "metadata": {},
   "outputs": [
    {
     "name": "stdout",
     "output_type": "stream",
     "text": [
      "<class 'str'>\n"
     ]
    }
   ],
   "source": [
    "print(type(y))"
   ]
  },
  {
   "cell_type": "code",
   "execution_count": 7,
   "id": "9a36f461",
   "metadata": {},
   "outputs": [
    {
     "name": "stdout",
     "output_type": "stream",
     "text": [
      "My favorite fruits are pineapples mangos peaches\n"
     ]
    }
   ],
   "source": [
    "a, b ,c = 'pineapples', ' mangos', ' peaches'\n",
    "print('My favorite fruits are ' + a + b + c)"
   ]
  },
  {
   "cell_type": "code",
   "execution_count": 8,
   "id": "7a779617",
   "metadata": {},
   "outputs": [
    {
     "name": "stdout",
     "output_type": "stream",
     "text": [
      "True\n"
     ]
    }
   ],
   "source": [
    "l = m = n = True\n",
    "print(l)"
   ]
  },
  {
   "cell_type": "markdown",
   "id": "a6afd820",
   "metadata": {},
   "source": [
    "### Scope\n",
    "Scope is important in Python. Variables declared with no indent are global."
   ]
  },
  {
   "cell_type": "markdown",
   "id": "4ae74036",
   "metadata": {},
   "source": [
    "# Data Types"
   ]
  },
  {
   "cell_type": "code",
   "execution_count": 9,
   "id": "0561b037",
   "metadata": {},
   "outputs": [
    {
     "name": "stdout",
     "output_type": "stream",
     "text": [
      "4.35\n"
     ]
    },
    {
     "data": {
      "text/plain": [
       "'4.35'"
      ]
     },
     "execution_count": 9,
     "metadata": {},
     "output_type": "execute_result"
    }
   ],
   "source": [
    "e = 4.35\n",
    "\n",
    "print(e)\n",
    "float(e)\n",
    "int(e)\n",
    "str (e)"
   ]
  },
  {
   "cell_type": "markdown",
   "id": "b48b5cff",
   "metadata": {},
   "source": [
    "## Multiline Text"
   ]
  },
  {
   "cell_type": "code",
   "execution_count": 10,
   "id": "2c8c3613",
   "metadata": {},
   "outputs": [
    {
     "name": "stdout",
     "output_type": "stream",
     "text": [
      "Lots and lots of words \n",
      "on a line meant for but a few\n",
      "this is multiline text \n",
      "I made it just for you\n"
     ]
    }
   ],
   "source": [
    "d = \"\"\"Lots and lots of words \n",
    "on a line meant for but a few\n",
    "this is multiline text \n",
    "I made it just for you\"\"\"\n",
    "print(d)"
   ]
  },
  {
   "cell_type": "markdown",
   "id": "447fe7d5",
   "metadata": {},
   "source": [
    "## Slice"
   ]
  },
  {
   "cell_type": "code",
   "execution_count": 11,
   "id": "01796b55",
   "metadata": {},
   "outputs": [
    {
     "name": "stdout",
     "output_type": "stream",
     "text": [
      "Lots and lots of words \n",
      "on a line meant for but a few\n",
      "this is multiline text \n",
      "I made it just for you\n"
     ]
    }
   ],
   "source": [
    "d = \"\"\"Lots and lots of words \n",
    "on a line meant for but a few\n",
    "this is multiline text \n",
    "I made it just for you\"\"\"\n",
    "print(d)\n"
   ]
  },
  {
   "cell_type": "code",
   "execution_count": 14,
   "id": "9831712c",
   "metadata": {},
   "outputs": [
    {
     "name": "stdout",
     "output_type": "stream",
     "text": [
      "Lots \n"
     ]
    }
   ],
   "source": [
    "firstWrd = d[0:5]\n",
    "print(firstWrd)"
   ]
  },
  {
   "cell_type": "code",
   "execution_count": 15,
   "id": "36bd045f",
   "metadata": {},
   "outputs": [
    {
     "name": "stdout",
     "output_type": "stream",
     "text": [
      "LOTS AND LOTS OF WORDS \n",
      "ON A LINE MEANT FOR BUT A FEW\n",
      "THIS IS MULTILINE TEXT \n",
      "I MADE IT JUST FOR YOU\n"
     ]
    }
   ],
   "source": [
    "print(d.upper())"
   ]
  },
  {
   "cell_type": "code",
   "execution_count": 17,
   "id": "a0084aab",
   "metadata": {},
   "outputs": [
    {
     "name": "stdout",
     "output_type": "stream",
     "text": [
      "Lots and lots of words \n",
      "on a line meant for but a few\n",
      "this is multiline text \n",
      "I made it just for you\n"
     ]
    }
   ],
   "source": [
    "print(d)"
   ]
  },
  {
   "cell_type": "code",
   "execution_count": 18,
   "id": "e5a79bc5",
   "metadata": {},
   "outputs": [
    {
     "name": "stdout",
     "output_type": "stream",
     "text": [
      "I am is 17\n"
     ]
    }
   ],
   "source": [
    "age = 17\n",
    "text = 'I am is {}'\n",
    "print(text.format(age))"
   ]
  },
  {
   "cell_type": "code",
   "execution_count": 30,
   "id": "786e7629",
   "metadata": {},
   "outputs": [
    {
     "name": "stdout",
     "output_type": "stream",
     "text": [
      "At this point I am just writing \"random things\"\n"
     ]
    }
   ],
   "source": [
    "words = \"At this point I am just writing \\\"random things\\\"\"\n",
    "print(words)"
   ]
  },
  {
   "cell_type": "code",
   "execution_count": null,
   "id": "1eaaa7e8",
   "metadata": {},
   "outputs": [],
   "source": []
  }
 ],
 "metadata": {
  "kernelspec": {
   "display_name": "Python 3 (ipykernel)",
   "language": "python",
   "name": "python3"
  },
  "language_info": {
   "codemirror_mode": {
    "name": "ipython",
    "version": 3
   },
   "file_extension": ".py",
   "mimetype": "text/x-python",
   "name": "python",
   "nbconvert_exporter": "python",
   "pygments_lexer": "ipython3",
   "version": "3.9.7"
  }
 },
 "nbformat": 4,
 "nbformat_minor": 5
}
