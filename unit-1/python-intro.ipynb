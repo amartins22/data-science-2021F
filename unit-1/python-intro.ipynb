{
 "cells": [
  {
   "cell_type": "markdown",
   "id": "cf39d405",
   "metadata": {},
   "source": [
    "# Python Crash Course\n",
    "This is my cheat sheet."
   ]
  },
  {
   "cell_type": "code",
   "execution_count": 1,
   "id": "2b1f2c45",
   "metadata": {},
   "outputs": [
    {
     "name": "stdout",
     "output_type": "stream",
     "text": [
      "Hello World\n"
     ]
    }
   ],
   "source": [
    "print('Hello World')"
   ]
  },
  {
   "cell_type": "markdown",
   "id": "f248e2e1",
   "metadata": {},
   "source": [
    "## Variables"
   ]
  },
  {
   "cell_type": "code",
   "execution_count": 2,
   "id": "096be3f2",
   "metadata": {},
   "outputs": [
    {
     "name": "stdout",
     "output_type": "stream",
     "text": [
      "This is really sad\n"
     ]
    }
   ],
   "source": [
    "x = 5\n",
    "y ='My soccer number is'\n",
    "z = 'This is really sad'\n",
    "print(z)"
   ]
  },
  {
   "cell_type": "markdown",
   "id": "1f52ac88",
   "metadata": {},
   "source": [
    "## Comments"
   ]
  },
  {
   "cell_type": "code",
   "execution_count": 3,
   "id": "b1e85bfe",
   "metadata": {},
   "outputs": [],
   "source": [
    "#I am commenting on my code"
   ]
  },
  {
   "cell_type": "code",
   "execution_count": 4,
   "id": "7f6d271b",
   "metadata": {},
   "outputs": [
    {
     "data": {
      "text/plain": [
       "'\\nThis is a \\nbig boy comment\\non big boy lines\\n'"
      ]
     },
     "execution_count": 4,
     "metadata": {},
     "output_type": "execute_result"
    }
   ],
   "source": [
    "\"\"\"\n",
    "This is a \n",
    "big boy comment\n",
    "on big boy lines\n",
    "\"\"\""
   ]
  },
  {
   "cell_type": "code",
   "execution_count": null,
   "id": "26599020",
   "metadata": {},
   "outputs": [],
   "source": []
  },
  {
   "cell_type": "markdown",
   "id": "877dfc01",
   "metadata": {},
   "source": [
    "## Casting and Concatination "
   ]
  },
  {
   "cell_type": "code",
   "execution_count": 5,
   "id": "f12558bc",
   "metadata": {},
   "outputs": [
    {
     "name": "stdout",
     "output_type": "stream",
     "text": [
      "My soccer number is 5\n"
     ]
    }
   ],
   "source": [
    "x = str(' 5')\n",
    "print(y+x)"
   ]
  },
  {
   "cell_type": "code",
   "execution_count": 6,
   "id": "5360e3e8",
   "metadata": {},
   "outputs": [
    {
     "name": "stdout",
     "output_type": "stream",
     "text": [
      "<class 'str'>\n"
     ]
    }
   ],
   "source": [
    "print(type(y))"
   ]
  },
  {
   "cell_type": "code",
   "execution_count": 7,
   "id": "85ef9907",
   "metadata": {},
   "outputs": [
    {
     "name": "stdout",
     "output_type": "stream",
     "text": [
      "My favorite fruits are pineapples mangos peaches\n"
     ]
    }
   ],
   "source": [
    "a, b ,c = 'pineapples', ' mangos', ' peaches'\n",
    "print('My favorite fruits are ' + a + b + c)"
   ]
  },
  {
   "cell_type": "code",
   "execution_count": 8,
   "id": "8ec4d3d3",
   "metadata": {},
   "outputs": [
    {
     "name": "stdout",
     "output_type": "stream",
     "text": [
      "True\n"
     ]
    }
   ],
   "source": [
    "l = m = n = True\n",
    "print(l)"
   ]
  },
  {
   "cell_type": "markdown",
   "id": "a2ed2dee",
   "metadata": {},
   "source": [
    "### Scope\n",
    "Scope is important in Python. Variables declared with no indent are global."
   ]
  },
  {
   "cell_type": "markdown",
   "id": "5384c6da",
   "metadata": {},
   "source": [
    "# Data Types"
   ]
  },
  {
   "cell_type": "code",
   "execution_count": 9,
   "id": "3acb101b",
   "metadata": {},
   "outputs": [
    {
     "name": "stdout",
     "output_type": "stream",
     "text": [
      "4.35\n"
     ]
    },
    {
     "data": {
      "text/plain": [
       "'4.35'"
      ]
     },
     "execution_count": 9,
     "metadata": {},
     "output_type": "execute_result"
    }
   ],
   "source": [
    "e = 4.35\n",
    "\n",
    "print(e)\n",
    "float(e)\n",
    "int(e)\n",
    "str (e)"
   ]
  },
  {
   "cell_type": "markdown",
   "id": "91e1aa96",
   "metadata": {},
   "source": [
    "## Multiline Text"
   ]
  },
  {
   "cell_type": "code",
   "execution_count": 10,
   "id": "b8a10b8e",
   "metadata": {},
   "outputs": [
    {
     "name": "stdout",
     "output_type": "stream",
     "text": [
      "Lots and lots of words \n",
      "on a line meant for but a few\n",
      "this is multiline text \n",
      "I made it just for you\n"
     ]
    }
   ],
   "source": [
    "d = \"\"\"Lots and lots of words \n",
    "on a line meant for but a few\n",
    "this is multiline text \n",
    "I made it just for you\"\"\"\n",
    "print(d)"
   ]
  },
  {
   "cell_type": "code",
   "execution_count": null,
   "id": "7da79f29",
   "metadata": {},
   "outputs": [],
   "source": []
  }
 ],
 "metadata": {
  "kernelspec": {
   "display_name": "Python 3 (ipykernel)",
   "language": "python",
   "name": "python3"
  },
  "language_info": {
   "codemirror_mode": {
    "name": "ipython",
    "version": 3
   },
   "file_extension": ".py",
   "mimetype": "text/x-python",
   "name": "python",
   "nbconvert_exporter": "python",
   "pygments_lexer": "ipython3",
   "version": "3.9.7"
  }
 },
 "nbformat": 4,
 "nbformat_minor": 5
}
