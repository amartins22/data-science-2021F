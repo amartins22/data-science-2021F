{
 "cells": [
  {
   "cell_type": "markdown",
   "id": "58b0800d",
   "metadata": {},
   "source": [
    "# Data Science Lesson - Describing Data\n",
    "---\n",
    "**How do we describe a one-dimensional data set?**\n",
    "\n",
    "Create a list of at least ten numeric grades (0-100). Output the list to verify."
   ]
  },
  {
   "cell_type": "code",
   "execution_count": 17,
   "id": "19a79be5",
   "metadata": {},
   "outputs": [
    {
     "data": {
      "text/plain": [
       "[75, 79, 80, 83, 88, 90, 91, 94, 99, 100]"
      ]
     },
     "execution_count": 17,
     "metadata": {},
     "output_type": "execute_result"
    }
   ],
   "source": [
    "grades = [75,79,80,83,88,90,91,94,99,100]\n",
    "grades"
   ]
  },
  {
   "cell_type": "markdown",
   "id": "09ff9e4a",
   "metadata": {},
   "source": [
    "Find the number (the count) of grades in the list and output it."
   ]
  },
  {
   "cell_type": "code",
   "execution_count": 6,
   "id": "acb71f36",
   "metadata": {},
   "outputs": [
    {
     "data": {
      "text/plain": [
       "10"
      ]
     },
     "execution_count": 6,
     "metadata": {},
     "output_type": "execute_result"
    }
   ],
   "source": [
    "len(grades)"
   ]
  },
  {
   "cell_type": "markdown",
   "id": "36a3600d",
   "metadata": {},
   "source": [
    "Calculate the mean grade using an old-fashioned for loop and the count from above."
   ]
  },
  {
   "cell_type": "code",
   "execution_count": 15,
   "id": "6b19a460",
   "metadata": {},
   "outputs": [
    {
     "name": "stdout",
     "output_type": "stream",
     "text": [
      "87.9\n"
     ]
    }
   ],
   "source": [
    "total = 0\n",
    "for grade in grades:\n",
    "    total += grade\n",
    "mean = total / len(grades)\n",
    "print(mean)"
   ]
  },
  {
   "cell_type": "markdown",
   "id": "60de1662",
   "metadata": {},
   "source": [
    "Calculate the minimum and maximum grades using an old-fashioned for loop and some clever logic. (You may want to whiteboard an algorithm first!) Output (print) them on one line (e.g., \"Minimum: 67 | Maximum: 99\")"
   ]
  },
  {
   "cell_type": "code",
   "execution_count": 30,
   "id": "a9334a8d",
   "metadata": {},
   "outputs": [
    {
     "name": "stdout",
     "output_type": "stream",
     "text": [
      "Minimum:75|Maximum:100\n"
     ]
    }
   ],
   "source": [
    "max = grades[0]\n",
    "min = grades[0]\n",
    "\n",
    "for grade in grades:\n",
    "    if grade > max:\n",
    "        max = grade\n",
    "    elif grade < min:\n",
    "        min = grade\n",
    "print(\"Minimum:\" + str(min) + \"|Maximum:\"+ str(max))"
   ]
  },
  {
   "cell_type": "markdown",
   "id": "899afe6a",
   "metadata": {},
   "source": [
    "Manually calculate the population standard deviation of grades.\n",
    "See: https://www.thoughtco.com/population-vs-sample-standard-deviations-3126372"
   ]
  },
  {
   "cell_type": "code",
   "execution_count": 36,
   "id": "45ae5b1b",
   "metadata": {},
   "outputs": [
    {
     "name": "stdout",
     "output_type": "stream",
     "text": [
      "8.080222769206305\n"
     ]
    }
   ],
   "source": [
    "sum = 0\n",
    "for grade in grades:\n",
    "    sum += (grade-mean)**2\n",
    "\n",
    "standev = (sum/len(grades))**0.5\n",
    "print(standev)"
   ]
  },
  {
   "cell_type": "markdown",
   "id": "7eb375cf",
   "metadata": {},
   "source": [
    "## Use NumPy\n",
    "\n",
    "Import NumPy (as np) and verify the standard deviation using its .std function (which takes a list as an argument).\n",
    "\n",
    "See: https://numpy.org/ and/or https://www.w3schools.com/python/numpy/"
   ]
  },
  {
   "cell_type": "code",
   "execution_count": 34,
   "id": "85c4ff89",
   "metadata": {},
   "outputs": [
    {
     "name": "stdout",
     "output_type": "stream",
     "text": [
      "8.080222769206305\n"
     ]
    }
   ],
   "source": [
    "import numpy as np\n",
    "\n",
    "print(np.std(grades))"
   ]
  },
  {
   "cell_type": "markdown",
   "id": "5d8319cb",
   "metadata": {},
   "source": [
    "**NumPy and other data science modules for Python do all the tedious work for us, and very efficiently!**"
   ]
  }
 ],
 "metadata": {
  "kernelspec": {
   "display_name": "Python 3",
   "language": "python",
   "name": "python3"
  },
  "language_info": {
   "codemirror_mode": {
    "name": "ipython",
    "version": 3
   },
   "file_extension": ".py",
   "mimetype": "text/x-python",
   "name": "python",
   "nbconvert_exporter": "python",
   "pygments_lexer": "ipython3",
   "version": "3.8.8"
  }
 },
 "nbformat": 4,
 "nbformat_minor": 5
}
