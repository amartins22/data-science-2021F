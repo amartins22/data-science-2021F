{
 "cells": [
  {
   "cell_type": "markdown",
   "id": "a3a28689",
   "metadata": {},
   "source": [
    "# Data Science Lesson - Data Structures\n",
    "---\n",
    "**Question: How do we represent our Stick Figure Google Sheet (table) in a Python variable?**\n",
    "\n",
    "### List of Dictionaries\n",
    "\n",
    "Represent each person as a dictionary, and store them all in a list. Output the list to verify."
   ]
  },
  {
   "cell_type": "code",
   "execution_count": 1,
   "id": "46d98ee3",
   "metadata": {},
   "outputs": [
    {
     "name": "stdout",
     "output_type": "stream",
     "text": [
      "[{'Name': 'Dakota', 'Height': 72, 'GPA': 3.15, 'Number of Friends': 307}, {'Name': 'Hayden', 'Height': 68, 'GPA': 3.5, 'Number of Friends': 335}, {'Name': 'Charlie', 'Height': 61, 'GPA': 1.1, 'Number of Friends': 34}, {'Name': 'Kamryn', 'Height': 66, 'GPA': 2.18, 'Number of Friends': 200}, {'Name': 'Emerson', 'Height': 65, 'GPA': 3.06, 'Number of Friends': 213}, {'Name': 'Jessie', 'Height': 61, 'GPA': 2.41, 'Number of Friends': 202}, {'Name': 'Sawyer', 'Height': 67, 'GPA': 2.96, 'Number of Friends': 314}, {'Name': 'London', 'Height': 64, 'GPA': 3.98, 'Number of Friends': 436}]\n"
     ]
    }
   ],
   "source": [
    "Fig1 = {\n",
    "    \"Name\": \"Dakota\",\n",
    "    \"Height\": 72,\n",
    "    \"GPA\": 3.15,\n",
    "    \"Number of Friends\": 307\n",
    "}\n",
    "Fig2 = {\n",
    "    \"Name\": \"Hayden\",\n",
    "    \"Height\": 68,\n",
    "    \"GPA\": 3.5,\n",
    "    \"Number of Friends\": 335\n",
    "}\n",
    "Fig3 = {\n",
    "    \"Name\": \"Charlie\",\n",
    "    \"Height\": 61,\n",
    "    \"GPA\": 1.1,\n",
    "    \"Number of Friends\": 34\n",
    "}\n",
    "Fig4 = {\n",
    "    \"Name\": \"Kamryn\",\n",
    "    \"Height\": 66,\n",
    "    \"GPA\": 2.18,\n",
    "    \"Number of Friends\": 200\n",
    "}\n",
    "Fig5 = {\n",
    "    \"Name\": \"Emerson\",\n",
    "    \"Height\": 65,\n",
    "    \"GPA\": 3.06,\n",
    "    \"Number of Friends\": 213\n",
    "}\n",
    "Fig6 = {\n",
    "    \"Name\": \"Jessie\",\n",
    "    \"Height\": 61,\n",
    "    \"GPA\": 2.41,\n",
    "    \"Number of Friends\": 202\n",
    "}\n",
    "Fig7 = {\n",
    "    \"Name\": \"Sawyer\",\n",
    "    \"Height\": 67,\n",
    "    \"GPA\": 2.96,\n",
    "    \"Number of Friends\": 314\n",
    "}\n",
    "Fig8 = {\n",
    "    \"Name\": \"London\",\n",
    "    \"Height\": 64,\n",
    "    \"GPA\": 3.98,\n",
    "    \"Number of Friends\": 436\n",
    "}\n",
    "\n",
    "stkFigs = [Fig1, Fig2, Fig3, Fig4, Fig5, Fig6, Fig7, Fig8]\n",
    "print(stkFigs)"
   ]
  },
  {
   "cell_type": "markdown",
   "id": "9dee2d16",
   "metadata": {},
   "source": [
    "What is the mean height of people in our list? First, use pure Python functions to calculate this, and output to verify. First, get the heights:"
   ]
  },
  {
   "cell_type": "code",
   "execution_count": 2,
   "id": "3525da44",
   "metadata": {},
   "outputs": [
    {
     "name": "stdout",
     "output_type": "stream",
     "text": [
      "[72, 68, 61, 66, 65, 61, 67, 64]\n"
     ]
    }
   ],
   "source": [
    "heights = [person.get(\"Height\") for person in stkFigs]\n",
    "    \n",
    "print(heights)"
   ]
  },
  {
   "cell_type": "markdown",
   "id": "b4a0df31",
   "metadata": {},
   "source": [
    "Next, calculate the mean:"
   ]
  },
  {
   "cell_type": "code",
   "execution_count": 3,
   "id": "5959d6e7",
   "metadata": {},
   "outputs": [
    {
     "name": "stdout",
     "output_type": "stream",
     "text": [
      "65.5\n"
     ]
    }
   ],
   "source": [
    "avg_height = sum(heights)/len(stkFigs)\n",
    "print(avg_height)"
   ]
  },
  {
   "cell_type": "markdown",
   "id": "bd6592b4",
   "metadata": {},
   "source": [
    "Now, import numpy (as np) and use its mean function to find the mean of the heights list directly."
   ]
  },
  {
   "cell_type": "code",
   "execution_count": 4,
   "id": "dac4edc5",
   "metadata": {},
   "outputs": [
    {
     "name": "stdout",
     "output_type": "stream",
     "text": [
      "65.5\n"
     ]
    }
   ],
   "source": [
    "import numpy as np\n",
    "mean = np.mean(heights)\n",
    "print(mean)"
   ]
  },
  {
   "cell_type": "markdown",
   "id": "25f72f93",
   "metadata": {},
   "source": [
    "## Dictionary of Lists\n",
    "\n",
    "Using a dictionary and key/value pairs, represent each attribute (column) of a person as a key and all the values of each attribute as a list. I.e., a dictionary of lists. Output the dict to verify."
   ]
  },
  {
   "cell_type": "code",
   "execution_count": 8,
   "id": "d5dca641",
   "metadata": {},
   "outputs": [
    {
     "name": "stdout",
     "output_type": "stream",
     "text": [
      "{'Names': ['Dakota', 'Hayden', 'Charlie', 'Kamryn', 'Emerson', 'Jessie', 'Sawyer', 'London'], 'Heights': [72, 68, 61, 66, 65, 61, 67, 64], 'GPA': [3.15, 3.5, 1.1, 2.18, 3.06, 2.41, 2.96, 3.98], 'Number of Friends': [307, 335, 34, 200, 213, 202, 314, 436]}\n"
     ]
    }
   ],
   "source": [
    "names = [person.get(\"Name\") for person in stkFigs]\n",
    "heights = [person.get(\"Height\") for person in stkFigs]\n",
    "gpas = [person.get(\"GPA\") for person in stkFigs]\n",
    "num_friends = [person.get(\"Number of Friends\") for person in stkFigs]\n",
    "\n",
    "people = {\n",
    "    \"Names\": names,\n",
    "    \"Heights\": heights,\n",
    "    \"GPA\": gpas,\n",
    "    \"Number of Friends\": num_friends\n",
    "}\n",
    "\n",
    "print(people)"
   ]
  },
  {
   "cell_type": "markdown",
   "id": "846bdc27",
   "metadata": {},
   "source": [
    "Now use NumPy to get the mean in one statement."
   ]
  },
  {
   "cell_type": "code",
   "execution_count": 9,
   "id": "898bb3cd",
   "metadata": {},
   "outputs": [
    {
     "name": "stdout",
     "output_type": "stream",
     "text": [
      "65.5\n"
     ]
    }
   ],
   "source": [
    "meanHeights = np.mean(heights)\n",
    "print(meanHeights)"
   ]
  },
  {
   "cell_type": "markdown",
   "id": "5f0ed550",
   "metadata": {},
   "source": [
    "**So, which approach should we use? Or is there a better way? Hmmm...**"
   ]
  }
 ],
 "metadata": {
  "kernelspec": {
   "display_name": "Python 3",
   "language": "python",
   "name": "python3"
  },
  "language_info": {
   "codemirror_mode": {
    "name": "ipython",
    "version": 3
   },
   "file_extension": ".py",
   "mimetype": "text/x-python",
   "name": "python",
   "nbconvert_exporter": "python",
   "pygments_lexer": "ipython3",
   "version": "3.8.8"
  }
 },
 "nbformat": 4,
 "nbformat_minor": 5
}
