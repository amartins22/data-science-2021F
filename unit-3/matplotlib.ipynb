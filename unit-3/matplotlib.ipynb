{
 "cells": [
  {
   "cell_type": "markdown",
   "id": "2cd25286",
   "metadata": {},
   "source": [
    "# MatPlotLib"
   ]
  },
  {
   "cell_type": "code",
   "execution_count": 4,
   "id": "8afeb809",
   "metadata": {},
   "outputs": [
    {
     "data": {
      "text/plain": [
       "'people.csv'"
      ]
     },
     "execution_count": 4,
     "metadata": {},
     "output_type": "execute_result"
    }
   ],
   "source": [
    "from shutil import copyfile\n",
    "copyfile('../unit-2/ds-stick-figs.csv', 'people.csv')"
   ]
  },
  {
   "cell_type": "code",
   "execution_count": 11,
   "id": "213ed187",
   "metadata": {},
   "outputs": [
    {
     "data": {
      "text/html": [
       "<div>\n",
       "<style scoped>\n",
       "    .dataframe tbody tr th:only-of-type {\n",
       "        vertical-align: middle;\n",
       "    }\n",
       "\n",
       "    .dataframe tbody tr th {\n",
       "        vertical-align: top;\n",
       "    }\n",
       "\n",
       "    .dataframe thead th {\n",
       "        text-align: right;\n",
       "    }\n",
       "</style>\n",
       "<table border=\"1\" class=\"dataframe\">\n",
       "  <thead>\n",
       "    <tr style=\"text-align: right;\">\n",
       "      <th></th>\n",
       "      <th>Height (in)</th>\n",
       "      <th>GPA</th>\n",
       "      <th>Number of Friends</th>\n",
       "      <th>Shoes</th>\n",
       "      <th>Sport</th>\n",
       "    </tr>\n",
       "    <tr>\n",
       "      <th>Name</th>\n",
       "      <th></th>\n",
       "      <th></th>\n",
       "      <th></th>\n",
       "      <th></th>\n",
       "      <th></th>\n",
       "    </tr>\n",
       "  </thead>\n",
       "  <tbody>\n",
       "    <tr>\n",
       "      <th>Dakota</th>\n",
       "      <td>72</td>\n",
       "      <td>3.15</td>\n",
       "      <td>307</td>\n",
       "      <td>Converse</td>\n",
       "      <td>Basketball</td>\n",
       "    </tr>\n",
       "    <tr>\n",
       "      <th>Hayden</th>\n",
       "      <td>68</td>\n",
       "      <td>3.50</td>\n",
       "      <td>335</td>\n",
       "      <td>Flip Flops</td>\n",
       "      <td>Tennis</td>\n",
       "    </tr>\n",
       "    <tr>\n",
       "      <th>Charlie</th>\n",
       "      <td>61</td>\n",
       "      <td>1.10</td>\n",
       "      <td>34</td>\n",
       "      <td>Flip Flops</td>\n",
       "      <td>Baseball</td>\n",
       "    </tr>\n",
       "    <tr>\n",
       "      <th>Kamryn</th>\n",
       "      <td>66</td>\n",
       "      <td>2.18</td>\n",
       "      <td>200</td>\n",
       "      <td>Converse</td>\n",
       "      <td>Soccer</td>\n",
       "    </tr>\n",
       "    <tr>\n",
       "      <th>Emerson</th>\n",
       "      <td>65</td>\n",
       "      <td>3.06</td>\n",
       "      <td>213</td>\n",
       "      <td>Converse</td>\n",
       "      <td>Soccer</td>\n",
       "    </tr>\n",
       "    <tr>\n",
       "      <th>Jessie</th>\n",
       "      <td>61</td>\n",
       "      <td>2.41</td>\n",
       "      <td>202</td>\n",
       "      <td>Flip Flops</td>\n",
       "      <td>Basketball</td>\n",
       "    </tr>\n",
       "    <tr>\n",
       "      <th>Sawyer</th>\n",
       "      <td>67</td>\n",
       "      <td>2.96</td>\n",
       "      <td>314</td>\n",
       "      <td>Flip Flops</td>\n",
       "      <td>Tennis</td>\n",
       "    </tr>\n",
       "    <tr>\n",
       "      <th>London</th>\n",
       "      <td>64</td>\n",
       "      <td>3.98</td>\n",
       "      <td>436</td>\n",
       "      <td>Converse</td>\n",
       "      <td>Soccer</td>\n",
       "    </tr>\n",
       "  </tbody>\n",
       "</table>\n",
       "</div>"
      ],
      "text/plain": [
       "         Height (in)   GPA  Number of Friends       Shoes       Sport\n",
       "Name                                                                 \n",
       "Dakota            72  3.15                307    Converse  Basketball\n",
       "Hayden            68  3.50                335  Flip Flops      Tennis\n",
       "Charlie           61  1.10                 34  Flip Flops    Baseball\n",
       "Kamryn            66  2.18                200    Converse      Soccer\n",
       "Emerson           65  3.06                213    Converse      Soccer\n",
       "Jessie            61  2.41                202  Flip Flops  Basketball\n",
       "Sawyer            67  2.96                314  Flip Flops      Tennis\n",
       "London            64  3.98                436    Converse      Soccer"
      ]
     },
     "execution_count": 11,
     "metadata": {},
     "output_type": "execute_result"
    }
   ],
   "source": [
    "from matplotlib import pyplot as plt\n",
    "import pandas as pd\n",
    "\n",
    "people = pd.read_csv(\"people.csv\", index_col = 0)\n",
    "people"
   ]
  },
  {
   "cell_type": "code",
   "execution_count": 32,
   "id": "13e4dc4e",
   "metadata": {},
   "outputs": [
    {
     "data": {
      "image/png": "[encoded data removed]",
      "text/plain": [
       "<Figure size 432x288 with 1 Axes>"
      ]
     },
     "metadata": {
      "needs_background": "light"
     },
     "output_type": "display_data"
    }
   ],
   "source": [
    "import numpy as np\n",
    "\n",
    "xpoints = np.array([1.0,4.0])\n",
    "ypoints = np.array([20, 440])\n",
    "\n",
    "plt.plot(xpoints, ypoints, 'r-')\n",
    "plt.scatter(people.iloc[:,1],people.iloc[:,2])\n",
    "plt.grid()\n",
    "plt.xlabel('GPA')\n",
    "plt.ylabel('Number of Friends')\n",
    "plt.title('Number of Friends vs GPA')\n",
    "\n",
    "plt.show()"
   ]
  },
  {
   "cell_type": "code",
   "execution_count": 33,
   "id": "9af51876",
   "metadata": {},
   "outputs": [
    {
     "data": {
      "text/html": [
       "<div>\n",
       "<style scoped>\n",
       "    .dataframe tbody tr th:only-of-type {\n",
       "        vertical-align: middle;\n",
       "    }\n",
       "\n",
       "    .dataframe tbody tr th {\n",
       "        vertical-align: top;\n",
       "    }\n",
       "\n",
       "    .dataframe thead th {\n",
       "        text-align: right;\n",
       "    }\n",
       "</style>\n",
       "<table border=\"1\" class=\"dataframe\">\n",
       "  <thead>\n",
       "    <tr style=\"text-align: right;\">\n",
       "      <th></th>\n",
       "      <th>Height (in)</th>\n",
       "      <th>GPA</th>\n",
       "      <th>Number of Friends</th>\n",
       "    </tr>\n",
       "  </thead>\n",
       "  <tbody>\n",
       "    <tr>\n",
       "      <th>Height (in)</th>\n",
       "      <td>1.000000</td>\n",
       "      <td>0.502907</td>\n",
       "      <td>0.511286</td>\n",
       "    </tr>\n",
       "    <tr>\n",
       "      <th>GPA</th>\n",
       "      <td>0.502907</td>\n",
       "      <td>1.000000</td>\n",
       "      <td>0.955895</td>\n",
       "    </tr>\n",
       "    <tr>\n",
       "      <th>Number of Friends</th>\n",
       "      <td>0.511286</td>\n",
       "      <td>0.955895</td>\n",
       "      <td>1.000000</td>\n",
       "    </tr>\n",
       "  </tbody>\n",
       "</table>\n",
       "</div>"
      ],
      "text/plain": [
       "                   Height (in)       GPA  Number of Friends\n",
       "Height (in)           1.000000  0.502907           0.511286\n",
       "GPA                   0.502907  1.000000           0.955895\n",
       "Number of Friends     0.511286  0.955895           1.000000"
      ]
     },
     "execution_count": 33,
     "metadata": {},
     "output_type": "execute_result"
    }
   ],
   "source": [
    "people.corr()"
   ]
  },
  {
   "cell_type": "code",
   "execution_count": null,
   "id": "34f21d16",
   "metadata": {},
   "outputs": [],
   "source": []
  }
 ],
 "metadata": {
  "kernelspec": {
   "display_name": "Python 3",
   "language": "python",
   "name": "python3"
  },
  "language_info": {
   "codemirror_mode": {
    "name": "ipython",
    "version": 3
   },
   "file_extension": ".py",
   "mimetype": "text/x-python",
   "name": "python",
   "nbconvert_exporter": "python",
   "pygments_lexer": "ipython3",
   "version": "3.8.8"
  }
 },
 "nbformat": 4,
 "nbformat_minor": 5
}
